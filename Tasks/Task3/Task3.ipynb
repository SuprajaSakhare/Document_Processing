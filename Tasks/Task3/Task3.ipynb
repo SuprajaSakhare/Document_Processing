{
 "cells": [
  {
   "cell_type": "markdown",
   "id": "018bafab",
   "metadata": {},
   "source": [
    "### Notebook Summary :\n",
    "- This notebookcan can read a folder of word documents and determine which ones are letters and which are contracts."
   ]
  },
  {
   "cell_type": "markdown",
   "id": "52e313b2",
   "metadata": {},
   "source": [
    "### Import Libraries"
   ]
  },
  {
   "cell_type": "code",
   "execution_count": 1,
   "id": "f04d6968",
   "metadata": {},
   "outputs": [],
   "source": [
    "### pre requisites - \n",
    "#! pip install docx2txt\n",
    "#! pip install gensim\n",
    "#! pip install nltk\n",
    "\n",
    "import pandas as pd\n",
    "import os\n",
    "import nltk\n",
    "import docx2txt\n",
    "import re\n",
    "from tqdm import tqdm\n",
    "tqdm.pandas(desc=\"progress-bar\")\n",
    "from gensim.models import Doc2Vec\n",
    "from sklearn import utils\n",
    "import gensim\n",
    "from gensim.models.doc2vec import TaggedDocument\n",
    "\n",
    "from nltk.corpus import stopwords\n",
    "stopwords_en = stopwords.words(\"english\")"
   ]
  },
  {
   "cell_type": "markdown",
   "id": "fe96cc69",
   "metadata": {},
   "source": [
    "### List All docx files in folder"
   ]
  },
  {
   "cell_type": "code",
   "execution_count": 2,
   "id": "ba40d9f2",
   "metadata": {},
   "outputs": [],
   "source": [
    "folder_name = \"test_docs\"\n",
    "file_list = []\n",
    "df = pd.DataFrame() \n",
    "path = os.getcwd()\n",
    "folder_path = path+\"\\\\\"+folder_name+\"\\\\\"\n",
    "for root, dirs, files in os.walk(folder_path):\n",
    "    for file in files:\n",
    "        if file.endswith('.docx'):\n",
    "            file_list.append(file)"
   ]
  },
  {
   "cell_type": "code",
   "execution_count": 3,
   "id": "66ed9779",
   "metadata": {},
   "outputs": [
    {
     "data": {
      "text/plain": [
       "['sample (1).docx',\n",
       " 'sample (2).docx',\n",
       " 'sample (3).docx',\n",
       " 'sample (4).docx',\n",
       " 'sample (5).docx',\n",
       " 'sample (6).docx',\n",
       " 'sample (7).docx',\n",
       " 'sample (8).docx']"
      ]
     },
     "execution_count": 3,
     "metadata": {},
     "output_type": "execute_result"
    }
   ],
   "source": [
    "file_list"
   ]
  },
  {
   "cell_type": "markdown",
   "id": "4e1e7e0a",
   "metadata": {},
   "source": [
    "### Text Cleaning "
   ]
  },
  {
   "cell_type": "code",
   "execution_count": 4,
   "id": "610e49b9",
   "metadata": {},
   "outputs": [
    {
     "name": "stderr",
     "output_type": "stream",
     "text": [
      "[nltk_data] Downloading package wordnet to\n",
      "[nltk_data]     C:\\Users\\0035RO744\\AppData\\Roaming\\nltk_data...\n",
      "[nltk_data]   Package wordnet is already up-to-date!\n"
     ]
    }
   ],
   "source": [
    "import nltk\n",
    "nltk.download('wordnet')\n",
    "from nltk.corpus import wordnet as wn\n",
    "def get_lemma(word):\n",
    "    lemma = wn.morphy(word)\n",
    "    if lemma is None:\n",
    "        return word\n",
    "    else:\n",
    "        return lemma\n",
    "    \n",
    "def processing(raw):\n",
    "    p = r\"[0-9]\"\n",
    "    raw = re.sub(p,'',raw)\n",
    "    punc = '''!()-[]{};:'\"“”\\,<>./?@#$%^&*_~'''\n",
    "    my_stop_words = ['say', '\\s', 'mr', 'Mr', 'said', 'says', 'saying', 'today', 'be','shall','would','mrs']\n",
    "\n",
    "    for ele in raw:\n",
    "        if ele in punc:\n",
    "            raw = raw.replace(ele, \"\")\n",
    "    wordlist = nltk.word_tokenize(raw)\n",
    "    wordlist = [w.lower() for w in wordlist]\n",
    "    text = [w for w in wordlist if w not in stopwords_en and w not in my_stop_words]\n",
    "    tokens = [get_lemma(w) for w in wordlist]\n",
    "    return text"
   ]
  },
  {
   "cell_type": "code",
   "execution_count": 5,
   "id": "21079cd7",
   "metadata": {},
   "outputs": [],
   "source": [
    "f0 = docx2txt.process(folder_path +file_list[0])\n",
    "text0 = processing(f0)\n",
    "f1 = docx2txt.process(folder_path +file_list[1])\n",
    "text1 = processing(f1)\n",
    "f2 = docx2txt.process(folder_path +file_list[2])\n",
    "text2 = processing(f2)\n",
    "f3 = docx2txt.process(folder_path +file_list[3])\n",
    "text3 = processing(f3)\n",
    "f4 = docx2txt.process(folder_path +file_list[4])\n",
    "text4 = processing(f4)\n",
    "f5 = docx2txt.process(folder_path +file_list[5])\n",
    "text5 = processing(f5)\n",
    "f6 = docx2txt.process(folder_path +file_list[6])\n",
    "text6 = processing(f6)\n",
    "f7 = docx2txt.process(folder_path +file_list[7])\n",
    "text7 = processing(f7)"
   ]
  },
  {
   "cell_type": "markdown",
   "id": "7f7b9deb",
   "metadata": {},
   "source": [
    "### Train Model"
   ]
  },
  {
   "cell_type": "code",
   "execution_count": 6,
   "id": "c3cf7052",
   "metadata": {},
   "outputs": [],
   "source": [
    "taggeddocs = []\n",
    "doc1 = TaggedDocument(words = text0, tags=[u'Letter'])\n",
    "taggeddocs.append(doc1)\n",
    "doc2 = TaggedDocument(words = text3, tags=[u'Contract'])\n",
    "taggeddocs.append(doc2)"
   ]
  },
  {
   "cell_type": "code",
   "execution_count": 7,
   "id": "5a37ae43",
   "metadata": {},
   "outputs": [
    {
     "name": "stderr",
     "output_type": "stream",
     "text": [
      "100%|██████████| 2/2 [00:00<?, ?it/s]\n",
      "100%|██████████| 2/2 [00:00<00:00, 1996.34it/s]\n",
      "100%|██████████| 2/2 [00:00<?, ?it/s]\n",
      "100%|██████████| 2/2 [00:00<?, ?it/s]\n",
      "100%|██████████| 2/2 [00:00<?, ?it/s]\n",
      "100%|██████████| 2/2 [00:00<?, ?it/s]\n",
      "100%|██████████| 2/2 [00:00<?, ?it/s]\n",
      "100%|██████████| 2/2 [00:00<?, ?it/s]\n",
      "100%|██████████| 2/2 [00:00<?, ?it/s]\n",
      "100%|██████████| 2/2 [00:00<?, ?it/s]\n",
      "100%|██████████| 2/2 [00:00<00:00, 1993.49it/s]\n",
      "100%|██████████| 2/2 [00:00<?, ?it/s]\n",
      "100%|██████████| 2/2 [00:00<?, ?it/s]\n",
      "100%|██████████| 2/2 [00:00<?, ?it/s]\n",
      "100%|██████████| 2/2 [00:00<?, ?it/s]\n",
      "100%|██████████| 2/2 [00:00<?, ?it/s]\n",
      "100%|██████████| 2/2 [00:00<?, ?it/s]\n",
      "100%|██████████| 2/2 [00:00<?, ?it/s]\n",
      "100%|██████████| 2/2 [00:00<?, ?it/s]\n",
      "100%|██████████| 2/2 [00:00<?, ?it/s]\n",
      "100%|██████████| 2/2 [00:00<?, ?it/s]\n",
      "100%|██████████| 2/2 [00:00<?, ?it/s]\n",
      "100%|██████████| 2/2 [00:00<?, ?it/s]\n",
      "100%|██████████| 2/2 [00:00<?, ?it/s]\n",
      "100%|██████████| 2/2 [00:00<?, ?it/s]\n",
      "100%|██████████| 2/2 [00:00<?, ?it/s]\n",
      "100%|██████████| 2/2 [00:00<?, ?it/s]\n",
      "100%|██████████| 2/2 [00:00<?, ?it/s]\n",
      "100%|██████████| 2/2 [00:00<?, ?it/s]\n",
      "100%|██████████| 2/2 [00:00<?, ?it/s]\n",
      "100%|██████████| 2/2 [00:00<?, ?it/s]\n"
     ]
    }
   ],
   "source": [
    "model_dbow = Doc2Vec(dm=0, vector_size=300, negative=5, min_count=1, alpha=0.065, min_alpha=0.065)\n",
    "model_dbow.build_vocab([x for x in tqdm(taggeddocs)])\n",
    "\n",
    "for epoch in range(30):\n",
    "    model_dbow.train(utils.shuffle([x for x in tqdm(taggeddocs)]), total_examples=len(taggeddocs), epochs=1)\n",
    "    model_dbow.alpha -= 0.002\n",
    "    model_dbow.min_alpha = model_dbow.alpha"
   ]
  },
  {
   "cell_type": "code",
   "execution_count": 8,
   "id": "8939cc13",
   "metadata": {},
   "outputs": [],
   "source": [
    "#use this saved model to get the tag for any unseen document.\n",
    "model_dbow.save('dbow.doc2vec')"
   ]
  },
  {
   "cell_type": "markdown",
   "id": "044f5d60",
   "metadata": {},
   "source": [
    "### Output"
   ]
  },
  {
   "cell_type": "code",
   "execution_count": 9,
   "id": "923d0c61",
   "metadata": {},
   "outputs": [],
   "source": [
    "# Assigning tag to each file \n",
    "# the structure would be filename : type of file identified from its content(letters/Contract)\n",
    "tag_dict = {}\n",
    "parsed_text_list = [text0,text1,text2,text3,text4,text5,text6,text7]\n",
    "for i in range(0,len(file_list)):\n",
    "    #print(file_list[i])\n",
    "    new_doc_vec = model_dbow.infer_vector(parsed_text_list[i], alpha=0.10)\n",
    "    x = model_dbow.dv.most_similar(positive=[new_doc_vec])\n",
    "    tag, value = max(x, key=lambda item: item[1])\n",
    "    tag_dict.update({file_list[i]:tag})\n"
   ]
  },
  {
   "cell_type": "code",
   "execution_count": 10,
   "id": "9b6f86f7",
   "metadata": {},
   "outputs": [
    {
     "data": {
      "text/plain": [
       "{'sample (1).docx': 'Letter',\n",
       " 'sample (2).docx': 'Letter',\n",
       " 'sample (3).docx': 'Letter',\n",
       " 'sample (4).docx': 'Contract',\n",
       " 'sample (5).docx': 'Contract',\n",
       " 'sample (6).docx': 'Contract',\n",
       " 'sample (7).docx': 'Contract',\n",
       " 'sample (8).docx': 'Contract'}"
      ]
     },
     "execution_count": 10,
     "metadata": {},
     "output_type": "execute_result"
    }
   ],
   "source": [
    "tag_dict"
   ]
  },
  {
   "cell_type": "code",
   "execution_count": 11,
   "id": "2652f002",
   "metadata": {},
   "outputs": [],
   "source": [
    "#End of notebook"
   ]
  }
 ],
 "metadata": {
  "kernelspec": {
   "display_name": "Python 3 (ipykernel)",
   "language": "python",
   "name": "python3"
  },
  "language_info": {
   "codemirror_mode": {
    "name": "ipython",
    "version": 3
   },
   "file_extension": ".py",
   "mimetype": "text/x-python",
   "name": "python",
   "nbconvert_exporter": "python",
   "pygments_lexer": "ipython3",
   "version": "3.9.7"
  }
 },
 "nbformat": 4,
 "nbformat_minor": 5
}
