{
 "cells": [
  {
   "cell_type": "markdown",
   "id": "24ace225",
   "metadata": {},
   "source": [
    "### Notebook Summary :\n",
    "- This notebookcan can read a folder of word documents and return all the addresses within documents.\n"
   ]
  },
  {
   "cell_type": "markdown",
   "id": "d84d6f40",
   "metadata": {},
   "source": [
    "### Import Libraries"
   ]
  },
  {
   "cell_type": "code",
   "execution_count": 1,
   "id": "2dc64950",
   "metadata": {},
   "outputs": [],
   "source": [
    "### pre requisites\n",
    "#! pip install docx2txt\n",
    "#! pip install pyap\n",
    "\n",
    "import pandas as pd\n",
    "import os\n",
    "import docx2txt\n",
    "import pyap"
   ]
  },
  {
   "cell_type": "markdown",
   "id": "3bc6316c",
   "metadata": {},
   "source": [
    "### Get All docs from folder"
   ]
  },
  {
   "cell_type": "code",
   "execution_count": 2,
   "id": "7d9b4f9d",
   "metadata": {},
   "outputs": [],
   "source": [
    "#get the folder structure\n",
    "folder_name = \"test_docs\"\n",
    "file_list = []\n",
    "path = os.getcwd()\n",
    "\n",
    "# iterate through folder to get files\n",
    "folder_path = path+\"\\\\\"+folder_name+\"\\\\\"\n",
    "for root, dirs, files in os.walk(folder_path):\n",
    "    for file in files:\n",
    "        if file.endswith('.docx'):\n",
    "            file_list.append(file)\n"
   ]
  },
  {
   "cell_type": "code",
   "execution_count": 3,
   "id": "e90bdc15",
   "metadata": {},
   "outputs": [
    {
     "data": {
      "text/plain": [
       "['sample (1).docx',\n",
       " 'sample (2).docx',\n",
       " 'sample (3).docx',\n",
       " 'sample (4).docx',\n",
       " 'sample (5).docx',\n",
       " 'sample (6).docx',\n",
       " 'sample (7).docx',\n",
       " 'sample (8).docx']"
      ]
     },
     "execution_count": 3,
     "metadata": {},
     "output_type": "execute_result"
    }
   ],
   "source": [
    "file_list"
   ]
  },
  {
   "cell_type": "markdown",
   "id": "fedea83e",
   "metadata": {},
   "source": [
    "### Fetch Address "
   ]
  },
  {
   "cell_type": "code",
   "execution_count": 4,
   "id": "87332c45",
   "metadata": {},
   "outputs": [],
   "source": [
    "#get addresses from all the document \n",
    "address_dict = {}\n",
    "for name in file_list:\n",
    "    file_data = docx2txt.process(folder_path +name)\n",
    "    address = pyap.parse(file_data, country='GB')\n",
    "    for a in address:\n",
    "        address_dict.update({name: address})\n"
   ]
  },
  {
   "cell_type": "markdown",
   "id": "b4063a87",
   "metadata": {},
   "source": [
    "### Output"
   ]
  },
  {
   "cell_type": "code",
   "execution_count": 5,
   "id": "c8fb3606",
   "metadata": {},
   "outputs": [
    {
     "data": {
      "text/plain": [
       "{'sample (1).docx': [71 Cherry Court, SOUTHAMPTON, SO53 5PD, UK],\n",
       " 'sample (2).docx': [207 Regent Street, London, W1B 2AP],\n",
       " 'sample (3).docx': [6 Horsefair Green, Old Portlethen, AB1 7ZQ,\n",
       "  86 Freezeland Lane, KA6 5HN],\n",
       " 'sample (4).docx': [56 Southlands Road, Poltalloch, PA31 9FY],\n",
       " 'sample (5).docx': [Wareham Road, Poole, Dorset, BH16 4XX]}"
      ]
     },
     "execution_count": 5,
     "metadata": {},
     "output_type": "execute_result"
    }
   ],
   "source": [
    "#Output\n",
    "address_dict"
   ]
  },
  {
   "cell_type": "code",
   "execution_count": 6,
   "id": "83448c93",
   "metadata": {},
   "outputs": [],
   "source": [
    "#end of notebook"
   ]
  }
 ],
 "metadata": {
  "kernelspec": {
   "display_name": "Python 3 (ipykernel)",
   "language": "python",
   "name": "python3"
  },
  "language_info": {
   "codemirror_mode": {
    "name": "ipython",
    "version": 3
   },
   "file_extension": ".py",
   "mimetype": "text/x-python",
   "name": "python",
   "nbconvert_exporter": "python",
   "pygments_lexer": "ipython3",
   "version": "3.9.7"
  }
 },
 "nbformat": 4,
 "nbformat_minor": 5
}
