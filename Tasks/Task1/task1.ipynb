{
 "cells": [
  {
   "cell_type": "markdown",
   "id": "93df303e",
   "metadata": {},
   "source": [
    "### Notebook Summary :\n",
    "- This notebookcan can read a folder of word documents and then write a new excel containing just the rows that satisfies the specific condition."
   ]
  },
  {
   "cell_type": "markdown",
   "id": "315b5f91",
   "metadata": {},
   "source": [
    "### Import Libraries"
   ]
  },
  {
   "cell_type": "code",
   "execution_count": 1,
   "id": "70f11653",
   "metadata": {},
   "outputs": [],
   "source": [
    "import pandas as pd\n",
    "import os"
   ]
  },
  {
   "cell_type": "code",
   "execution_count": 2,
   "id": "c4690d38",
   "metadata": {},
   "outputs": [],
   "source": [
    "output_file = \"final_output.xlsx\"\n",
    "path = os.getcwd()"
   ]
  },
  {
   "cell_type": "markdown",
   "id": "d7de9bd6",
   "metadata": {},
   "source": [
    "### Functions"
   ]
  },
  {
   "cell_type": "code",
   "execution_count": 3,
   "id": "d094f7bc",
   "metadata": {},
   "outputs": [],
   "source": [
    "def getExcelFiles():\n",
    "    ''' Purpose: to collect all the files provided in a specific folder ending with .xlsx'''\n",
    "    file_list = []\n",
    "    for root, dirs, files in os.walk(path):\n",
    "        for file in files:\n",
    "            if file != output_file and file.endswith('.xlsx'): \n",
    "                file_list.append(file)\n",
    "    if len(file_list)>0:\n",
    "        return file_list\n",
    "    else:\n",
    "        print(\"Location does not contain any Excel files.\")\n",
    "            \n",
    "def saveOutput(): \n",
    "    ''' Purpose: to combine the data from all excel files, apply conditions and save output as excel file'''\n",
    "\n",
    "    collect_data = []\n",
    "    file_list = getExcelFiles()\n",
    "    for i in file_list:\n",
    "        df = pd.read_excel(i, squeeze=False)\n",
    "        collect_data.append(df)\n",
    "        df1 = pd.concat(collect_data)\n",
    "    df2 = df1.query(\"Status == 'Approved'\")\n",
    "    df2 = df2.reset_index(drop =True)\n",
    "    #saving output file\n",
    "    df2.to_excel(output_file, index=False)\n",
    "    return df2"
   ]
  },
  {
   "cell_type": "markdown",
   "id": "231239c1",
   "metadata": {},
   "source": [
    "### Output"
   ]
  },
  {
   "cell_type": "code",
   "execution_count": 4,
   "id": "8717f9ce",
   "metadata": {},
   "outputs": [
    {
     "data": {
      "text/html": [
       "<div>\n",
       "<style scoped>\n",
       "    .dataframe tbody tr th:only-of-type {\n",
       "        vertical-align: middle;\n",
       "    }\n",
       "\n",
       "    .dataframe tbody tr th {\n",
       "        vertical-align: top;\n",
       "    }\n",
       "\n",
       "    .dataframe thead th {\n",
       "        text-align: right;\n",
       "    }\n",
       "</style>\n",
       "<table border=\"1\" class=\"dataframe\">\n",
       "  <thead>\n",
       "    <tr style=\"text-align: right;\">\n",
       "      <th></th>\n",
       "      <th>Person</th>\n",
       "      <th>Status</th>\n",
       "    </tr>\n",
       "  </thead>\n",
       "  <tbody>\n",
       "    <tr>\n",
       "      <th>0</th>\n",
       "      <td>Anne</td>\n",
       "      <td>Approved</td>\n",
       "    </tr>\n",
       "    <tr>\n",
       "      <th>1</th>\n",
       "      <td>Carl</td>\n",
       "      <td>Approved</td>\n",
       "    </tr>\n",
       "    <tr>\n",
       "      <th>2</th>\n",
       "      <td>Dave</td>\n",
       "      <td>Approved</td>\n",
       "    </tr>\n",
       "    <tr>\n",
       "      <th>3</th>\n",
       "      <td>Ed</td>\n",
       "      <td>Approved</td>\n",
       "    </tr>\n",
       "    <tr>\n",
       "      <th>4</th>\n",
       "      <td>Harry</td>\n",
       "      <td>Approved</td>\n",
       "    </tr>\n",
       "    <tr>\n",
       "      <th>5</th>\n",
       "      <td>Jo</td>\n",
       "      <td>Approved</td>\n",
       "    </tr>\n",
       "    <tr>\n",
       "      <th>6</th>\n",
       "      <td>Larry</td>\n",
       "      <td>Approved</td>\n",
       "    </tr>\n",
       "    <tr>\n",
       "      <th>7</th>\n",
       "      <td>Mat</td>\n",
       "      <td>Approved</td>\n",
       "    </tr>\n",
       "  </tbody>\n",
       "</table>\n",
       "</div>"
      ],
      "text/plain": [
       "  Person    Status\n",
       "0   Anne  Approved\n",
       "1   Carl  Approved\n",
       "2   Dave  Approved\n",
       "3     Ed  Approved\n",
       "4  Harry  Approved\n",
       "5     Jo  Approved\n",
       "6  Larry  Approved\n",
       "7    Mat  Approved"
      ]
     },
     "execution_count": 4,
     "metadata": {},
     "output_type": "execute_result"
    }
   ],
   "source": [
    "output = saveOutput()\n",
    "output#.reset_index(drop =True)"
   ]
  },
  {
   "cell_type": "code",
   "execution_count": 5,
   "id": "53ee496b",
   "metadata": {},
   "outputs": [],
   "source": [
    "#end of notebook."
   ]
  }
 ],
 "metadata": {
  "kernelspec": {
   "display_name": "Python 3 (ipykernel)",
   "language": "python",
   "name": "python3"
  },
  "language_info": {
   "codemirror_mode": {
    "name": "ipython",
    "version": 3
   },
   "file_extension": ".py",
   "mimetype": "text/x-python",
   "name": "python",
   "nbconvert_exporter": "python",
   "pygments_lexer": "ipython3",
   "version": "3.9.7"
  }
 },
 "nbformat": 4,
 "nbformat_minor": 5
}
